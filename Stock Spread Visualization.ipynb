{
 "cells": [
  {
   "cell_type": "code",
   "execution_count": 14,
   "metadata": {},
   "outputs": [],
   "source": [
    "import pandas as pd\n",
    "import numpy as np\n",
    "import seaborn as sns\n",
    "\n",
    "def build_density_facetwrap(somedf, colName, valName, wrapAmount, yourTitle):\n",
    "    sns.set(style=\"white\", rc={\"axes.facecolor\": (0, 0, 0, 0)})\n",
    "\n",
    "    # Initialize the FacetGrid object\n",
    "    pal = sns.cubehelix_palette(10, rot=-.25, light=.7)\n",
    "    g = sns.FacetGrid(somedf,col=colName, hue=colName, col_wrap=wrapAmount, palette=pal)\n",
    "    # Draw the densities in a few steps\n",
    "    g.map(sns.kdeplot, valName, clip_on=False, shade=True, alpha=1, lw=1.5, bw=.2)\n",
    "    g.map(sns.kdeplot, valName, clip_on=False, color=\"w\", lw=0.5, bw=.2)\n",
    "    g.map(plt.axhline, y=0, lw=2, clip_on=False)\n",
    "\n",
    "    # Define and use a simple function to label the plot in axes coordinates\n",
    "    def label(x, color, label):\n",
    "        ax = plt.gca()\n",
    "        ax.text(0, .4, label, fontweight=\"bold\", color=color, \n",
    "                ha=\"left\", va=\"center\", transform=ax.transAxes)\n",
    "        plt.xlabel('Change ($/day)', fontsize=12)\n",
    "        plt.ylabel('Frequency', fontsize=12)\n",
    "    g.map(label, \"change\")\n",
    "\n",
    "    # Set the subplots to overlap\n",
    "    g.fig.subplots_adjust(hspace=0)\n",
    "\n",
    "    # Remove axes details that don't play will with overlap \n",
    "    g.set_titles(\"\")\n",
    "    g.fig.suptitle(yourTitle, fontsize=32)\n",
    "    g.set(yticks=[])\n",
    "    g.despine(bottom=True, left=True)\n",
    "    g.fig.subplots_adjust(top=.8)\n",
    "    g.add_legend()"
   ]
  },
  {
   "cell_type": "code",
   "execution_count": 22,
   "metadata": {},
   "outputs": [
    {
     "data": {
      "text/plain": [
       "619029"
      ]
     },
     "execution_count": 22,
     "metadata": {},
     "output_type": "execute_result"
    }
   ],
   "source": [
    "stock_data = pd.read_csv('data/all_stocks_5yr.csv')\n",
    "stock_data['change'] = stock_data['close'] - stock_data['open']\n",
    "stock_data['percent_change'] =  stock_data['change'] / stock_data['close']\n",
    "np.count_nonzero(~np.isnan(stock_data['percent_change']))"
   ]
  },
  {
   "cell_type": "code",
   "execution_count": 24,
   "metadata": {},
   "outputs": [
    {
     "data": {
      "text/plain": [
       "<matplotlib.axes._subplots.AxesSubplot at 0x1195c5518>"
      ]
     },
     "execution_count": 24,
     "metadata": {},
     "output_type": "execute_result"
    },
    {
     "data": {
      "image/png": "[encoded data removed]",
      "text/plain": [
       "<matplotlib.figure.Figure at 0x1195c5b00>"
      ]
     },
     "metadata": {},
     "output_type": "display_data"
    }
   ],
   "source": [
    "sns.kdeplot(stock_data['close'])"
   ]
  },
  {
   "cell_type": "code",
   "execution_count": null,
   "metadata": {},
   "outputs": [],
   "source": [
    "build_density_facetwrap(stock_data,\"Name\",\"change\",5,\"Top 10 Closers Change Spread in 2016\")"
   ]
  }
 ],
 "metadata": {
  "kernelspec": {
   "display_name": "Python 3",
   "language": "python",
   "name": "python3"
  },
  "language_info": {
   "codemirror_mode": {
    "name": "ipython",
    "version": 3
   },
   "file_extension": ".py",
   "mimetype": "text/x-python",
   "name": "python",
   "nbconvert_exporter": "python",
   "pygments_lexer": "ipython3",
   "version": "3.7.0"
  }
 },
 "nbformat": 4,
 "nbformat_minor": 2
}
