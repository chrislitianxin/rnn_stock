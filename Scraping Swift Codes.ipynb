{
 "cells": [
  {
   "cell_type": "code",
   "execution_count": null,
   "metadata": {},
   "outputs": [],
   "source": [
    "from bs4 import BeautifulSoup as bs\n",
    "from urllib.request import Request, urlopen\n",
    "import pandas as pd\n",
    "import time\n",
    "\n",
    "countries = {}\n",
    "datalist = []\n",
    "\n",
    "def get_countries():\n",
    "    homepage = 'http://www.swiftcodelist.com/countries.html'\n",
    "    req = Request(homepage, headers={'User-Agent': 'Mozilla/5.0'})\n",
    "    countrypage = urlopen(req).read()\n",
    "    soup = bs(countrypage, \"html.parser\")\n",
    "    # get list of countries and its url \n",
    "    for c in soup.select('a[href^=http://www.swiftcodelist.com/country/]'):\n",
    "        countries[c.string] = c.get('href')\n",
    "\n",
    "def get_swift_code(country, url):\n",
    "    time.sleep(1)\n",
    "    c_page = urlopen(Request(url,headers={'User-Agent': 'Mozilla/5.0'})).read()\n",
    "    c_soup =bs(c_page, \"html.parser\")\n",
    "    # skip 1st row \n",
    "    rows = c_soup.table.find_all('tr')\n",
    "    iterr = iter(rows)\n",
    "    next(iterr)\n",
    "    # rows\n",
    "    for row in iterr:\n",
    "        td = row.find_all('td')\n",
    "        # columns\n",
    "        bank_name = td[1].a.string\n",
    "        branch_name = td[2].string\n",
    "        city = td[3].string\n",
    "        swift = td[4].a.string\n",
    "        datalist.append([bank_name, branch_name,city,country,swift])\n",
    "\n",
    "def get_page_range(url):\n",
    "    page = urlopen(Request(url,headers={'User-Agent': 'Mozilla/5.0'})).read()\n",
    "    soup =bs(page, \"html.parser\")\n",
    "    page_range = soup.find('div',class_='pageNav').text\n",
    "    pages = [int(s) for s in page_range.split() if s.isdigit()]\n",
    "    return pages[1]\n",
    "\n",
    "def scrape_to_df():\n",
    "    # get swift code for each countries\n",
    "    countries = {'India': 'http://www.swiftcodelist.com/country/india.html'}\n",
    "    for k,v in countries.items():\n",
    "        #for initial page\n",
    "        get_swift_code(k,v)\n",
    "        print(v)\n",
    "        last_page = get_page_range(v)\n",
    "        #for subsequent pages\n",
    "        for i in range(2,last_page+1):\n",
    "            url = v[:-5] + '-' + str(i) + '.html'\n",
    "            print(url)\n",
    "            get_swift_code(k,url)"
   ]
  },
  {
   "cell_type": "code",
   "execution_count": null,
   "metadata": {},
   "outputs": [],
   "source": [
    "scrape_to_df()\n"
   ]
  },
  {
   "cell_type": "code",
   "execution_count": null,
   "metadata": {},
   "outputs": [],
   "source": [
    "headers = ['BankName','BranchName','City','Country','SWIFTCode']\n",
    "df = pd.DataFrame(datalist,columns=headers)"
   ]
  },
  {
   "cell_type": "code",
   "execution_count": null,
   "metadata": {},
   "outputs": [],
   "source": [
    "df"
   ]
  },
  {
   "cell_type": "code",
   "execution_count": null,
   "metadata": {},
   "outputs": [],
   "source": []
  }
 ],
 "metadata": {
  "kernelspec": {
   "display_name": "Python 3",
   "language": "python",
   "name": "python3"
  },
  "language_info": {
   "codemirror_mode": {
    "name": "ipython",
    "version": 3
   },
   "file_extension": ".py",
   "mimetype": "text/x-python",
   "name": "python",
   "nbconvert_exporter": "python",
   "pygments_lexer": "ipython3",
   "version": "3.6.4"
  }
 },
 "nbformat": 4,
 "nbformat_minor": 2
}
