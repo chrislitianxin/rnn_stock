{
 "cells": [
  {
   "cell_type": "code",
   "execution_count": 1,
   "metadata": {},
   "outputs": [
    {
     "name": "stderr",
     "output_type": "stream",
     "text": [
      "Using TensorFlow backend.\n"
     ]
    }
   ],
   "source": [
    "from keras.layers.core import Dense,Activation,Dropout\n",
    "from keras.layers.recurrent import LSTM\n",
    "from keras.models import Sequential\n",
    "\n",
    "from matplotlib import pyplot as plt\n",
    "import sklearn.preprocessing as prep\n",
    "from sklearn.model_selection import TimeSeriesSplit\n",
    "import numpy as np\n",
    "import pandas as pd\n",
    "import time\n",
    "import os"
   ]
  },
  {
   "cell_type": "markdown",
   "metadata": {},
   "source": [
    "# Loading Data"
   ]
  },
  {
   "cell_type": "code",
   "execution_count": 2,
   "metadata": {},
   "outputs": [
    {
     "data": {
      "text/plain": [
       "['prices-split-adjusted.csv',\n",
       " 'RedditNews.csv',\n",
       " '.DS_Store',\n",
       " 'fundamentals.csv',\n",
       " 'datafest2018-Updated-April12.csv',\n",
       " 'prices.csv',\n",
       " 'Stocks',\n",
       " 'ETFs',\n",
       " 'securities.csv',\n",
       " 'all_stocks_5yr.csv']"
      ]
     },
     "execution_count": 2,
     "metadata": {},
     "output_type": "execute_result"
    }
   ],
   "source": [
    "os.chdir('Data')\n",
    "os.listdir()"
   ]
  },
  {
   "cell_type": "code",
   "execution_count": 3,
   "metadata": {},
   "outputs": [
    {
     "data": {
      "text/html": [
       "<div>\n",
       "<style scoped>\n",
       "    .dataframe tbody tr th:only-of-type {\n",
       "        vertical-align: middle;\n",
       "    }\n",
       "\n",
       "    .dataframe tbody tr th {\n",
       "        vertical-align: top;\n",
       "    }\n",
       "\n",
       "    .dataframe thead th {\n",
       "        text-align: right;\n",
       "    }\n",
       "</style>\n",
       "<table border=\"1\" class=\"dataframe\">\n",
       "  <thead>\n",
       "    <tr style=\"text-align: right;\">\n",
       "      <th></th>\n",
       "      <th>date</th>\n",
       "      <th>open</th>\n",
       "      <th>high</th>\n",
       "      <th>low</th>\n",
       "      <th>close</th>\n",
       "      <th>volume</th>\n",
       "      <th>Name</th>\n",
       "    </tr>\n",
       "  </thead>\n",
       "  <tbody>\n",
       "    <tr>\n",
       "      <th>0</th>\n",
       "      <td>2013-02-08</td>\n",
       "      <td>15.07</td>\n",
       "      <td>15.12</td>\n",
       "      <td>14.63</td>\n",
       "      <td>14.75</td>\n",
       "      <td>8407500</td>\n",
       "      <td>AAL</td>\n",
       "    </tr>\n",
       "    <tr>\n",
       "      <th>1</th>\n",
       "      <td>2013-02-11</td>\n",
       "      <td>14.89</td>\n",
       "      <td>15.01</td>\n",
       "      <td>14.26</td>\n",
       "      <td>14.46</td>\n",
       "      <td>8882000</td>\n",
       "      <td>AAL</td>\n",
       "    </tr>\n",
       "    <tr>\n",
       "      <th>2</th>\n",
       "      <td>2013-02-12</td>\n",
       "      <td>14.45</td>\n",
       "      <td>14.51</td>\n",
       "      <td>14.10</td>\n",
       "      <td>14.27</td>\n",
       "      <td>8126000</td>\n",
       "      <td>AAL</td>\n",
       "    </tr>\n",
       "    <tr>\n",
       "      <th>3</th>\n",
       "      <td>2013-02-13</td>\n",
       "      <td>14.30</td>\n",
       "      <td>14.94</td>\n",
       "      <td>14.25</td>\n",
       "      <td>14.66</td>\n",
       "      <td>10259500</td>\n",
       "      <td>AAL</td>\n",
       "    </tr>\n",
       "    <tr>\n",
       "      <th>4</th>\n",
       "      <td>2013-02-14</td>\n",
       "      <td>14.94</td>\n",
       "      <td>14.96</td>\n",
       "      <td>13.16</td>\n",
       "      <td>13.99</td>\n",
       "      <td>31879900</td>\n",
       "      <td>AAL</td>\n",
       "    </tr>\n",
       "  </tbody>\n",
       "</table>\n",
       "</div>"
      ],
      "text/plain": [
       "         date   open   high    low  close    volume Name\n",
       "0  2013-02-08  15.07  15.12  14.63  14.75   8407500  AAL\n",
       "1  2013-02-11  14.89  15.01  14.26  14.46   8882000  AAL\n",
       "2  2013-02-12  14.45  14.51  14.10  14.27   8126000  AAL\n",
       "3  2013-02-13  14.30  14.94  14.25  14.66  10259500  AAL\n",
       "4  2013-02-14  14.94  14.96  13.16  13.99  31879900  AAL"
      ]
     },
     "execution_count": 3,
     "metadata": {},
     "output_type": "execute_result"
    }
   ],
   "source": [
    "data = pd.read_csv('all_stocks_5yr.csv')\n",
    "data.head()"
   ]
  },
  {
   "cell_type": "code",
   "execution_count": 4,
   "metadata": {},
   "outputs": [
    {
     "data": {
      "text/html": [
       "<div>\n",
       "<style scoped>\n",
       "    .dataframe tbody tr th:only-of-type {\n",
       "        vertical-align: middle;\n",
       "    }\n",
       "\n",
       "    .dataframe tbody tr th {\n",
       "        vertical-align: top;\n",
       "    }\n",
       "\n",
       "    .dataframe thead th {\n",
       "        text-align: right;\n",
       "    }\n",
       "</style>\n",
       "<table border=\"1\" class=\"dataframe\">\n",
       "  <thead>\n",
       "    <tr style=\"text-align: right;\">\n",
       "      <th></th>\n",
       "      <th>open</th>\n",
       "      <th>high</th>\n",
       "      <th>low</th>\n",
       "      <th>close</th>\n",
       "      <th>volume</th>\n",
       "    </tr>\n",
       "  </thead>\n",
       "  <tbody>\n",
       "    <tr>\n",
       "      <th>count</th>\n",
       "      <td>619029.000000</td>\n",
       "      <td>619032.000000</td>\n",
       "      <td>619032.000000</td>\n",
       "      <td>619040.000000</td>\n",
       "      <td>6.190400e+05</td>\n",
       "    </tr>\n",
       "    <tr>\n",
       "      <th>mean</th>\n",
       "      <td>83.023334</td>\n",
       "      <td>83.778311</td>\n",
       "      <td>82.256096</td>\n",
       "      <td>83.043763</td>\n",
       "      <td>4.321823e+06</td>\n",
       "    </tr>\n",
       "    <tr>\n",
       "      <th>std</th>\n",
       "      <td>97.378769</td>\n",
       "      <td>98.207519</td>\n",
       "      <td>96.507421</td>\n",
       "      <td>97.389748</td>\n",
       "      <td>8.693610e+06</td>\n",
       "    </tr>\n",
       "    <tr>\n",
       "      <th>min</th>\n",
       "      <td>1.620000</td>\n",
       "      <td>1.690000</td>\n",
       "      <td>1.500000</td>\n",
       "      <td>1.590000</td>\n",
       "      <td>0.000000e+00</td>\n",
       "    </tr>\n",
       "    <tr>\n",
       "      <th>25%</th>\n",
       "      <td>40.220000</td>\n",
       "      <td>40.620000</td>\n",
       "      <td>39.830000</td>\n",
       "      <td>40.245000</td>\n",
       "      <td>1.070320e+06</td>\n",
       "    </tr>\n",
       "    <tr>\n",
       "      <th>50%</th>\n",
       "      <td>62.590000</td>\n",
       "      <td>63.150000</td>\n",
       "      <td>62.020000</td>\n",
       "      <td>62.620000</td>\n",
       "      <td>2.082094e+06</td>\n",
       "    </tr>\n",
       "    <tr>\n",
       "      <th>75%</th>\n",
       "      <td>94.370000</td>\n",
       "      <td>95.180000</td>\n",
       "      <td>93.540000</td>\n",
       "      <td>94.410000</td>\n",
       "      <td>4.284509e+06</td>\n",
       "    </tr>\n",
       "    <tr>\n",
       "      <th>max</th>\n",
       "      <td>2044.000000</td>\n",
       "      <td>2067.990000</td>\n",
       "      <td>2035.110000</td>\n",
       "      <td>2049.000000</td>\n",
       "      <td>6.182376e+08</td>\n",
       "    </tr>\n",
       "  </tbody>\n",
       "</table>\n",
       "</div>"
      ],
      "text/plain": [
       "                open           high            low          close  \\\n",
       "count  619029.000000  619032.000000  619032.000000  619040.000000   \n",
       "mean       83.023334      83.778311      82.256096      83.043763   \n",
       "std        97.378769      98.207519      96.507421      97.389748   \n",
       "min         1.620000       1.690000       1.500000       1.590000   \n",
       "25%        40.220000      40.620000      39.830000      40.245000   \n",
       "50%        62.590000      63.150000      62.020000      62.620000   \n",
       "75%        94.370000      95.180000      93.540000      94.410000   \n",
       "max      2044.000000    2067.990000    2035.110000    2049.000000   \n",
       "\n",
       "             volume  \n",
       "count  6.190400e+05  \n",
       "mean   4.321823e+06  \n",
       "std    8.693610e+06  \n",
       "min    0.000000e+00  \n",
       "25%    1.070320e+06  \n",
       "50%    2.082094e+06  \n",
       "75%    4.284509e+06  \n",
       "max    6.182376e+08  "
      ]
     },
     "execution_count": 4,
     "metadata": {},
     "output_type": "execute_result"
    }
   ],
   "source": [
    "data.describe()"
   ]
  },
  {
   "cell_type": "markdown",
   "metadata": {},
   "source": [
    "# Preprocessing"
   ]
  },
  {
   "cell_type": "markdown",
   "metadata": {},
   "source": [
    "Testing only with Apple Stock first"
   ]
  },
  {
   "cell_type": "code",
   "execution_count": 5,
   "metadata": {},
   "outputs": [
    {
     "name": "stdout",
     "output_type": "stream",
     "text": [
      "Shape: (1259, 3)\n"
     ]
    },
    {
     "name": "stderr",
     "output_type": "stream",
     "text": [
      "/Library/Frameworks/Python.framework/Versions/3.6/lib/python3.6/site-packages/ipykernel_launcher.py:8: SettingWithCopyWarning: \n",
      "A value is trying to be set on a copy of a slice from a DataFrame.\n",
      "Try using .loc[row_indexer,col_indexer] = value instead\n",
      "\n",
      "See the caveats in the documentation: http://pandas.pydata.org/pandas-docs/stable/indexing.html#indexing-view-versus-copy\n",
      "  \n"
     ]
    }
   ],
   "source": [
    "# feature for testing: \n",
    "# - closing price of the day\n",
    "# - volume\n",
    "# - absolute difference of high - low to measure fluctuation\n",
    "features = ['close','volume','diff']\n",
    "    \n",
    "AAPL = data[data['Name']=='AAPL']\n",
    "AAPL['diff'] =  abs(AAPL.high - AAPL.low)\n",
    "AAPL = AAPL[features]\n",
    "print('Shape:',AAPL.shape)"
   ]
  },
  {
   "cell_type": "markdown",
   "metadata": {},
   "source": [
    "A simple plot of features"
   ]
  },
  {
   "cell_type": "code",
   "execution_count": 6,
   "metadata": {},
   "outputs": [
    {
     "data": {
      "image/png": "[encoded data removed]",
      "text/plain": [
       "<matplotlib.figure.Figure at 0x11fee17b8>"
      ]
     },
     "metadata": {},
     "output_type": "display_data"
    }
   ],
   "source": [
    "for idx,feature in enumerate(features):\n",
    "    plt.subplot(len(features),1,idx+1)\n",
    "    plt.plot(AAPL[feature])\n",
    "plt.show()"
   ]
  },
  {
   "cell_type": "markdown",
   "metadata": {},
   "source": [
    "Standardize Input"
   ]
  },
  {
   "cell_type": "code",
   "execution_count": 7,
   "metadata": {},
   "outputs": [
    {
     "name": "stdout",
     "output_type": "stream",
     "text": [
      "(1259, 3)\n"
     ]
    }
   ],
   "source": [
    "scalerX = prep.MinMaxScaler()\n",
    "AAPL = scalerX.fit_transform(AAPL)\n",
    "print(AAPL.shape)"
   ]
  },
  {
   "cell_type": "markdown",
   "metadata": {},
   "source": [
    "Reframe to supervised learning"
   ]
  },
  {
   "cell_type": "code",
   "execution_count": 58,
   "metadata": {},
   "outputs": [
    {
     "name": "stdout",
     "output_type": "stream",
     "text": [
      "Input Dimension: (1253, 5, 3)\n",
      "Output Dimension:  (1253,)\n"
     ]
    },
    {
     "data": {
      "image/png": "[encoded data removed]",
      "text/plain": [
       "<matplotlib.figure.Figure at 0x15304f2e8>"
      ]
     },
     "metadata": {},
     "output_type": "display_data"
    }
   ],
   "source": [
    "ts = 5\n",
    "X,y = [],[]\n",
    "for i in range(AAPL.shape[0]-ts-1):\n",
    "    X.append(AAPL[i:i+ts])\n",
    "    y.append(AAPL[i+ts,0])\n",
    "X = np.array(X)\n",
    "y = np.array(y)\n",
    "print('Input Dimension:',X.shape)\n",
    "print('Output Dimension: ',y.shape)\n",
    "plt.plot(y)\n",
    "plt.show()"
   ]
  },
  {
   "cell_type": "markdown",
   "metadata": {},
   "source": [
    "Split Train Test Data"
   ]
  },
  {
   "cell_type": "code",
   "execution_count": 59,
   "metadata": {},
   "outputs": [
    {
     "data": {
      "image/png": "[encoded data removed]",
      "text/plain": [
       "<matplotlib.figure.Figure at 0x153e85978>"
      ]
     },
     "metadata": {},
     "output_type": "display_data"
    },
    {
     "data": {
      "text/plain": [
       "(1000, 5, 3)"
      ]
     },
     "execution_count": 59,
     "metadata": {},
     "output_type": "execute_result"
    }
   ],
   "source": [
    "X_train,X_test,y_train,y_test = X[:1000],X[1000:],y[:1000],y[1000:]\n",
    "plt.figure()\n",
    "plt.subplot(1,2,1)\n",
    "plt.plot(y_train)\n",
    "plt.subplot(1,2,2)\n",
    "plt.plot(y_test)\n",
    "plt.show()\n",
    "X_train.shape"
   ]
  },
  {
   "cell_type": "markdown",
   "metadata": {},
   "source": [
    "# LSTM Model\n"
   ]
  },
  {
   "cell_type": "code",
   "execution_count": 89,
   "metadata": {},
   "outputs": [
    {
     "name": "stdout",
     "output_type": "stream",
     "text": [
      "0.023853778839111328\n",
      "Train on 900 samples, validate on 100 samples\n",
      "Epoch 1/30\n",
      "900/900 [==============================] - 7s 8ms/step - loss: 0.0527 - val_loss: 0.0147\n",
      "Epoch 2/30\n",
      "900/900 [==============================] - 1s 633us/step - loss: 0.0089 - val_loss: 0.0094\n",
      "Epoch 3/30\n",
      "900/900 [==============================] - 1s 650us/step - loss: 0.0062 - val_loss: 0.0044\n",
      "Epoch 4/30\n",
      "900/900 [==============================] - 1s 631us/step - loss: 0.0059 - val_loss: 0.0043\n",
      "Epoch 5/30\n",
      "900/900 [==============================] - 1s 644us/step - loss: 0.0035 - val_loss: 0.0156\n",
      "Epoch 6/30\n",
      "900/900 [==============================] - 1s 640us/step - loss: 0.0064 - val_loss: 0.0062\n",
      "Epoch 7/30\n",
      "900/900 [==============================] - 1s 689us/step - loss: 0.0045 - val_loss: 0.0033\n",
      "Epoch 8/30\n",
      "900/900 [==============================] - 1s 647us/step - loss: 0.0057 - val_loss: 0.0016\n",
      "Epoch 9/30\n",
      "900/900 [==============================] - 1s 647us/step - loss: 0.0037 - val_loss: 0.0091\n",
      "Epoch 10/30\n",
      "900/900 [==============================] - 1s 650us/step - loss: 0.0052 - val_loss: 7.9216e-04\n",
      "Epoch 11/30\n",
      "900/900 [==============================] - 1s 688us/step - loss: 0.0031 - val_loss: 4.9851e-04\n",
      "Epoch 12/30\n",
      "900/900 [==============================] - 1s 677us/step - loss: 0.0058 - val_loss: 6.1965e-04\n",
      "Epoch 13/30\n",
      "900/900 [==============================] - 1s 786us/step - loss: 0.0033 - val_loss: 0.0052\n",
      "Epoch 14/30\n",
      "900/900 [==============================] - 1s 660us/step - loss: 0.0057 - val_loss: 0.0030\n",
      "Epoch 15/30\n",
      "900/900 [==============================] - 1s 641us/step - loss: 0.0036 - val_loss: 0.0220\n",
      "Epoch 16/30\n",
      "900/900 [==============================] - 1s 654us/step - loss: 0.0042 - val_loss: 0.0039\n",
      "Epoch 17/30\n",
      "900/900 [==============================] - 1s 641us/step - loss: 0.0037 - val_loss: 0.0028\n",
      "Epoch 18/30\n",
      "900/900 [==============================] - 1s 654us/step - loss: 0.0032 - val_loss: 0.0062\n",
      "Epoch 19/30\n",
      "900/900 [==============================] - 1s 636us/step - loss: 0.0045 - val_loss: 0.0120\n",
      "Epoch 20/30\n",
      "900/900 [==============================] - 1s 654us/step - loss: 0.0030 - val_loss: 0.0023\n",
      "Epoch 21/30\n",
      "900/900 [==============================] - 1s 646us/step - loss: 0.0043 - val_loss: 0.0036\n",
      "Epoch 22/30\n",
      "900/900 [==============================] - 1s 631us/step - loss: 0.0032 - val_loss: 0.0030\n",
      "Epoch 23/30\n",
      "900/900 [==============================] - 1s 648us/step - loss: 0.0030 - val_loss: 0.0030\n",
      "Epoch 24/30\n",
      "900/900 [==============================] - 1s 637us/step - loss: 0.0032 - val_loss: 0.0161\n",
      "Epoch 25/30\n",
      "900/900 [==============================] - 1s 638us/step - loss: 0.0031 - val_loss: 0.0201\n",
      "Epoch 26/30\n",
      "900/900 [==============================] - 1s 641us/step - loss: 0.0035 - val_loss: 8.5487e-04\n",
      "Epoch 27/30\n",
      "900/900 [==============================] - 1s 635us/step - loss: 0.0039 - val_loss: 0.0074\n",
      "Epoch 28/30\n",
      "900/900 [==============================] - 1s 645us/step - loss: 0.0032 - val_loss: 0.0041\n",
      "Epoch 29/30\n",
      "900/900 [==============================] - 1s 640us/step - loss: 0.0027 - val_loss: 0.0015\n",
      "Epoch 30/30\n",
      "900/900 [==============================] - 1s 643us/step - loss: 0.0031 - val_loss: 0.0107\n"
     ]
    }
   ],
   "source": [
    "model = Sequential()\n",
    "\n",
    "model.add(LSTM(256,input_shape = (5,3),return_sequences=True))\n",
    "\n",
    "model.add(Dropout(0.2))\n",
    "\n",
    "model.add(LSTM(32,return_sequences=True))\n",
    "\n",
    "model.add(Dropout(0.2))\n",
    "\n",
    "model.add(LSTM(32,return_sequences=False))\n",
    "\n",
    "model.add(Dropout(0.2))\n",
    "\n",
    "model.add(Dense(1))\n",
    "model.add(Activation('relu'))\n",
    "\n",
    "start = time.time()\n",
    "model.compile(loss='mse',optimizer='rmsprop')\n",
    "print(time.time()-start)\n",
    "\n",
    "lstm = model.fit(X_train,y_train,epochs = 30,batch_size=128,validation_split=0.1,shuffle=True)\n"
   ]
  },
  {
   "cell_type": "code",
   "execution_count": 90,
   "metadata": {},
   "outputs": [
    {
     "data": {
      "text/plain": [
       "[<matplotlib.lines.Line2D at 0x1748a1710>]"
      ]
     },
     "execution_count": 90,
     "metadata": {},
     "output_type": "execute_result"
    },
    {
     "data": {
      "image/png": "[encoded data removed]",
      "text/plain": [
       "<matplotlib.figure.Figure at 0x171158780>"
      ]
     },
     "metadata": {},
     "output_type": "display_data"
    }
   ],
   "source": [
    "predictions = model.predict(X_test)\n",
    "\n",
    "plt.plot(predictions)\n",
    "plt.plot(y_test)"
   ]
  },
  {
   "cell_type": "code",
   "execution_count": 91,
   "metadata": {},
   "outputs": [
    {
     "data": {
      "text/plain": [
       "[<matplotlib.lines.Line2D at 0x1748f8a58>]"
      ]
     },
     "execution_count": 91,
     "metadata": {},
     "output_type": "execute_result"
    },
    {
     "data": {
      "image/png": "[encoded data removed]",
      "text/plain": [
       "<matplotlib.figure.Figure at 0x1748b5438>"
      ]
     },
     "metadata": {},
     "output_type": "display_data"
    }
   ],
   "source": [
    "plt.plot(lstm.history['loss'])"
   ]
  },
  {
   "cell_type": "code",
   "execution_count": null,
   "metadata": {},
   "outputs": [],
   "source": []
  }
 ],
 "metadata": {
  "kernelspec": {
   "display_name": "Python 3",
   "language": "python",
   "name": "python3"
  },
  "language_info": {
   "codemirror_mode": {
    "name": "ipython",
    "version": 3
   },
   "file_extension": ".py",
   "mimetype": "text/x-python",
   "name": "python",
   "nbconvert_exporter": "python",
   "pygments_lexer": "ipython3",
   "version": "3.6.4"
  }
 },
 "nbformat": 4,
 "nbformat_minor": 2
}
