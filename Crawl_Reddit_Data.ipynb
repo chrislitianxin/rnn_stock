{
 "cells": [
  {
   "cell_type": "code",
   "execution_count": 19,
   "metadata": {},
   "outputs": [],
   "source": [
    "import praw\n",
    "import datetime\n",
    "\n",
    "def get_date(submission):\n",
    "    time = submission.created\n",
    "    return datetime.datetime.fromtimestamp(time)\n",
    "\n",
    "bot = praw.Reddit(user_agent='HelloReddit v0.1',\n",
    "                  client_id='G4HBacOCirthuw',\n",
    "                  client_secret='ycQMteQU_THmxpIOIku-umklsfk',\n",
    "                  username='chris_tx',\n",
    "                  password='Leche940328')"
   ]
  },
  {
   "cell_type": "code",
   "execution_count": 9,
   "metadata": {},
   "outputs": [
    {
     "name": "stdout",
     "output_type": "stream",
     "text": [
      "100\n"
     ]
    }
   ],
   "source": [
    "btc = [ x.title for x in bot.subreddit('Bitcoin').controversial('day')]\n",
    "print(len(btc))"
   ]
  },
  {
   "cell_type": "code",
   "execution_count": 28,
   "metadata": {},
   "outputs": [
    {
     "name": "stdout",
     "output_type": "stream",
     "text": [
      "------------------------  2018-05-08 01:36:34  ------------------------\n",
      "------------------------  2018-05-08 03:37:55  ------------------------\n",
      "------------------------  2018-05-08 03:03:54  ------------------------\n",
      "------------------------  2018-05-08 14:29:37  ------------------------\n",
      "------------------------  2018-05-08 06:19:59  ------------------------\n",
      "------------------------  2018-05-08 04:04:33  ------------------------\n",
      "------------------------  2018-05-08 16:27:21  ------------------------\n",
      "------------------------  2018-05-07 20:51:00  ------------------------\n",
      "------------------------  2018-05-08 15:32:00  ------------------------\n",
      "------------------------  2018-05-08 04:31:31  ------------------------\n",
      "------------------------  2018-05-08 05:02:50  ------------------------\n",
      "------------------------  2018-05-08 16:20:24  ------------------------\n",
      "------------------------  2018-05-08 05:44:02  ------------------------\n",
      "------------------------  2018-05-07 21:23:25  ------------------------\n",
      "------------------------  2018-05-08 10:07:11  ------------------------\n",
      "------------------------  2018-05-08 04:49:58  ------------------------\n",
      "------------------------  2018-05-08 06:32:15  ------------------------\n",
      "------------------------  2018-05-08 16:53:37  ------------------------\n",
      "------------------------  2018-05-08 08:36:36  ------------------------\n",
      "------------------------  2018-05-08 13:22:45  ------------------------\n",
      "------------------------  2018-05-07 21:29:23  ------------------------\n",
      "------------------------  2018-05-08 14:29:34  ------------------------\n",
      "------------------------  2018-05-08 02:28:12  ------------------------\n",
      "------------------------  2018-05-08 06:56:44  ------------------------\n",
      "------------------------  2018-05-08 12:00:49  ------------------------\n",
      "976\n"
     ]
    }
   ],
   "source": [
    "def get_top_comments():\n",
    "    top_comments = []\n",
    "    for submission in bot.subreddit('Bitcoin').top('day', limit=25):\n",
    "        # replace all 'more' \n",
    "        submission.comments.replace_more(limit=None)\n",
    "        # sort by number of tops\n",
    "        submission.comment_sort = 'top'\n",
    "        print('------------------------ ',get_date(submission),' ------------------------')\n",
    "\n",
    "        for top_comment in submission.comments.list():\n",
    "            top_comments.append(top_comment.body)\n",
    "        \n",
    "    \n",
    "\n",
    "print(len(top_comments))   \n",
    "            \n",
    "#eth = [ x.title for x in bot.subreddit('ethereum+ethtrader').hot(limit=25)]"
   ]
  },
  {
   "cell_type": "code",
   "execution_count": null,
   "metadata": {},
   "outputs": [],
   "source": []
  }
 ],
 "metadata": {
  "kernelspec": {
   "display_name": "Python 3",
   "language": "python",
   "name": "python3"
  },
  "language_info": {
   "codemirror_mode": {
    "name": "ipython",
    "version": 3
   },
   "file_extension": ".py",
   "mimetype": "text/x-python",
   "name": "python",
   "nbconvert_exporter": "python",
   "pygments_lexer": "ipython3",
   "version": "3.6.4"
  }
 },
 "nbformat": 4,
 "nbformat_minor": 2
}
